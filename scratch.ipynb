{
 "cells": [
  {
   "cell_type": "markdown",
   "id": "3e5fb136",
   "metadata": {},
   "source": [
    "## Replace Title"
   ]
  },
  {
   "cell_type": "markdown",
   "id": "3cb84602",
   "metadata": {},
   "source": [
    "##### Assistant"
   ]
  },
  {
   "cell_type": "code",
   "execution_count": 1,
   "id": "b7b51a69",
   "metadata": {},
   "outputs": [],
   "source": [
    "from pathlib import Path\n",
    "from bs4 import BeautifulSoup as bs"
   ]
  },
  {
   "cell_type": "code",
   "execution_count": 2,
   "id": "8ce3a8c8",
   "metadata": {},
   "outputs": [],
   "source": [
    "def update_title(html_path: str|Path, default_title: str = \"nbsanity | Jupyter Notebook Viewer\"):\n",
    "    doc = Path(html_path)\n",
    "    soup = bs(doc.read_text(encoding='utf-8'), 'html.parser')\n",
    "    title = soup.title.string if soup.title else default_title\n",
    "    if meta_tag := soup.find('meta', property='og:title'): meta_tag['content'] = title\n",
    "    doc.write_text(str(soup), encoding='utf-8')"
   ]
  },
  {
   "cell_type": "markdown",
   "id": "9f74ac4c",
   "metadata": {},
   "source": [
    "##### User"
   ]
  },
  {
   "cell_type": "code",
   "execution_count": 3,
   "id": "55053b86",
   "metadata": {},
   "outputs": [],
   "source": [
    "# !rm -rf static/307cfee0a3f8f7d76b7646960ea599f0"
   ]
  },
  {
   "cell_type": "markdown",
   "id": "026b36b9",
   "metadata": {},
   "source": [
    "We need to replace the below placeholder with the title from the head"
   ]
  },
  {
   "cell_type": "code",
   "execution_count": 4,
   "id": "7aef602c",
   "metadata": {},
   "outputs": [
    {
     "name": "stdout",
     "output_type": "stream",
     "text": [
      "<meta property=\"\u001b[01;31m\u001b[Kog:title\u001b[m\u001b[K\" content=\"{{{title}}}\">\r\n"
     ]
    }
   ],
   "source": [
    "!cat static/307cfee0a3f8f7d76b7646960ea599f0/long_tail.html | grep \"og:title\""
   ]
  },
  {
   "cell_type": "markdown",
   "id": "197e31b7",
   "metadata": {},
   "source": [
    "Let's check if it works!"
   ]
  },
  {
   "cell_type": "code",
   "execution_count": 5,
   "id": "6f5e035a",
   "metadata": {},
   "outputs": [],
   "source": [
    "update_title('static/307cfee0a3f8f7d76b7646960ea599f0/long_tail.html')"
   ]
  },
  {
   "cell_type": "code",
   "execution_count": 6,
   "id": "4e24c67c",
   "metadata": {},
   "outputs": [
    {
     "name": "stdout",
     "output_type": "stream",
     "text": [
      "<meta content=\"Stitch Fix, Jupyter, GitHub, and the Long Tail\" property=\"\u001b[01;31m\u001b[Kog:title\u001b[m\u001b[K\"/>\r\n"
     ]
    }
   ],
   "source": [
    "!cat static/307cfee0a3f8f7d76b7646960ea599f0/long_tail.html | grep \"og:title\""
   ]
  },
  {
   "cell_type": "code",
   "execution_count": null,
   "id": "18c325c9",
   "metadata": {},
   "outputs": [],
   "source": []
  }
 ],
 "metadata": {
  "kernelspec": {
   "display_name": "Python 3 (ipykernel)",
   "language": "python",
   "name": "python3"
  },
  "language_info": {
   "codemirror_mode": {
    "name": "ipython",
    "version": 3
   },
   "file_extension": ".py",
   "mimetype": "text/x-python",
   "name": "python",
   "nbconvert_exporter": "python",
   "pygments_lexer": "ipython3",
   "version": "3.12.7"
  }
 },
 "nbformat": 4,
 "nbformat_minor": 5
}
