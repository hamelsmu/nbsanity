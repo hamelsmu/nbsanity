{
 "cells": [
  {
   "cell_type": "markdown",
   "id": "3e5fb136",
   "metadata": {},
   "source": [
    "## Replace Title"
   ]
  },
  {
   "cell_type": "markdown",
   "id": "3cb84602",
   "metadata": {},
   "source": [
    "##### Assistant"
   ]
  },
  {
   "cell_type": "code",
   "execution_count": 56,
   "id": "b7b51a69",
   "metadata": {},
   "outputs": [],
   "source": [
    "from pathlib import Path\n",
    "from bs4 import BeautifulSoup as bs\n",
    "import requests\n",
    "from fastcore.net import urlsave\n",
    "from fastcore.utils import Path"
   ]
  },
  {
   "cell_type": "code",
   "execution_count": 2,
   "id": "8ce3a8c8",
   "metadata": {},
   "outputs": [],
   "source": [
    "def update_title(html_path: str|Path, default_title: str = \"nbsanity | Jupyter Notebook Viewer\"):\n",
    "    doc = Path(html_path)\n",
    "    soup = bs(doc.read_text(encoding='utf-8'), 'html.parser')\n",
    "    title = soup.title.string if soup.title else default_title\n",
    "    if meta_tag := soup.find('meta', property='og:title'): meta_tag['content'] = title\n",
    "    doc.write_text(str(soup), encoding='utf-8')"
   ]
  },
  {
   "cell_type": "markdown",
   "id": "9f74ac4c",
   "metadata": {},
   "source": [
    "##### User"
   ]
  },
  {
   "cell_type": "code",
   "execution_count": 3,
   "id": "55053b86",
   "metadata": {},
   "outputs": [],
   "source": [
    "# !rm -rf static/307cfee0a3f8f7d76b7646960ea599f0"
   ]
  },
  {
   "cell_type": "markdown",
   "id": "026b36b9",
   "metadata": {},
   "source": [
    "We need to replace the below placeholder with the title from the head"
   ]
  },
  {
   "cell_type": "code",
   "execution_count": 4,
   "id": "7aef602c",
   "metadata": {},
   "outputs": [
    {
     "name": "stdout",
     "output_type": "stream",
     "text": [
      "<meta property=\"\u001b[01;31m\u001b[Kog:title\u001b[m\u001b[K\" content=\"{{{title}}}\">\r\n"
     ]
    }
   ],
   "source": [
    "!cat static/307cfee0a3f8f7d76b7646960ea599f0/long_tail.html | grep \"og:title\""
   ]
  },
  {
   "cell_type": "markdown",
   "id": "197e31b7",
   "metadata": {},
   "source": [
    "Let's check if it works!"
   ]
  },
  {
   "cell_type": "code",
   "execution_count": 5,
   "id": "6f5e035a",
   "metadata": {},
   "outputs": [],
   "source": [
    "update_title('static/307cfee0a3f8f7d76b7646960ea599f0/long_tail.html')"
   ]
  },
  {
   "cell_type": "code",
   "execution_count": 6,
   "id": "4e24c67c",
   "metadata": {},
   "outputs": [
    {
     "name": "stdout",
     "output_type": "stream",
     "text": [
      "<meta content=\"Stitch Fix, Jupyter, GitHub, and the Long Tail\" property=\"\u001b[01;31m\u001b[Kog:title\u001b[m\u001b[K\"/>\r\n"
     ]
    }
   ],
   "source": [
    "!cat static/307cfee0a3f8f7d76b7646960ea599f0/long_tail.html | grep \"og:title\""
   ]
  },
  {
   "cell_type": "markdown",
   "id": "a433241d",
   "metadata": {},
   "source": [
    "## Test shotscraper"
   ]
  },
  {
   "cell_type": "code",
   "execution_count": 57,
   "id": "494d8ef7",
   "metadata": {},
   "outputs": [],
   "source": [
    "def gist_raw(gist_url):\n",
    "    # Extract gist ID from URL\n",
    "    gist_id = gist_url.split('/')[-1]\n",
    "    \n",
    "    # Get gist info from GitHub API\n",
    "    api_url = f\"https://api.github.com/gists/{gist_id}\"\n",
    "    response = requests.get(api_url)\n",
    "    data = response.json()\n",
    "    \n",
    "    # Check if 'files' or 'raw_url' is missing and raise HTTPError\n",
    "    if 'files' not in data or not data['files']:\n",
    "        raise urllib.error.HTTPError(api_url, 404, \"No files found in the gist\", None, None)\n",
    "    \n",
    "    raw_url = list(data['files'].values())[0].get('raw_url')\n",
    "    if not raw_url:\n",
    "        raise urllib.error.HTTPError(api_url, 404, \"No raw_url found for the file\", None, None)\n",
    "    \n",
    "    return raw_url\n",
    "\n",
    "\n",
    "def git2raw(git_url: str): \n",
    "    if git_url.startswith('https://gist.github.com/'): return gist_raw(git_url)\n",
    "    if git_url.startswith('https://gist.githubusercontent.com') and 'raw' in git_url: return git_url\n",
    "    return git_url.replace(\"github.com\", \"raw.githubusercontent.com\").replace(\"/blob/\", \"/\")\n",
    "\n",
    "\n",
    "def escape_filename(filename):\n",
    "    # Replace HTML-like characters and other problematic characters\n",
    "    invalid_chars = '<>:\"/\\\\|?*%#&{}+=`@!^;[]()$'\n",
    "    for char in invalid_chars:\n",
    "        filename = filename.replace(char, '_')\n",
    "    return filename"
   ]
  },
  {
   "cell_type": "markdown",
   "id": "67c031ad",
   "metadata": {},
   "source": [
    "Let's test it:"
   ]
  },
  {
   "cell_type": "code",
   "execution_count": 76,
   "id": "84ec77ee",
   "metadata": {},
   "outputs": [],
   "source": [
    "!rm -rf temp/\n",
    "!mkdir temp"
   ]
  },
  {
   "cell_type": "code",
   "execution_count": 77,
   "id": "50ceac56",
   "metadata": {},
   "outputs": [
    {
     "data": {
      "text/plain": [
       "Path('temp/AoC_2023%2C_day_1.ipynb')"
      ]
     },
     "execution_count": 77,
     "metadata": {},
     "output_type": "execute_result"
    }
   ],
   "source": [
    "\n",
    "full_url='https://gist.github.com/93degree/f979a600bd6ef75044e83c3d9bfd6022'\n",
    "nm = urlsave(git2raw(full_url), 'temp')\n",
    "nm"
   ]
  },
  {
   "cell_type": "code",
   "execution_count": 80,
   "id": "b027cc8e",
   "metadata": {},
   "outputs": [
    {
     "data": {
      "text/plain": [
       "Path('temp/AoC_2023_2C_day_1.ipynb')"
      ]
     },
     "execution_count": 80,
     "metadata": {},
     "output_type": "execute_result"
    }
   ],
   "source": [
    "nm.rename(nm.parent/escape_filename(nm.name))"
   ]
  },
  {
   "cell_type": "code",
   "execution_count": 81,
   "id": "ca41cf80",
   "metadata": {},
   "outputs": [
    {
     "name": "stdout",
     "output_type": "stream",
     "text": [
      "AoC_2023_2C_day_1.ipynb\r\n"
     ]
    }
   ],
   "source": [
    "!ls temp/"
   ]
  },
  {
   "cell_type": "code",
   "execution_count": null,
   "id": "59c1568d",
   "metadata": {},
   "outputs": [],
   "source": []
  }
 ],
 "metadata": {
  "kernelspec": {
   "display_name": "Python 3 (ipykernel)",
   "language": "python",
   "name": "python3"
  },
  "language_info": {
   "codemirror_mode": {
    "name": "ipython",
    "version": 3
   },
   "file_extension": ".py",
   "mimetype": "text/x-python",
   "name": "python",
   "nbconvert_exporter": "python",
   "pygments_lexer": "ipython3",
   "version": "3.12.7"
  }
 },
 "nbformat": 4,
 "nbformat_minor": 5
}
