{
 "cells": [
  {
   "cell_type": "markdown",
   "id": "3e5fb136",
   "metadata": {},
   "source": [
    "## Replace Title"
   ]
  },
  {
   "cell_type": "markdown",
   "id": "3cb84602",
   "metadata": {},
   "source": [
    "##### Assistant"
   ]
  },
  {
   "cell_type": "code",
   "execution_count": 1,
   "id": "b7b51a69",
   "metadata": {},
   "outputs": [],
   "source": [
    "from pathlib import Path\n",
    "from bs4 import BeautifulSoup as bs\n",
    "import requests\n",
    "from fastcore.net import urlsave\n",
    "from fastcore.utils import Path"
   ]
  },
  {
   "cell_type": "markdown",
   "id": "9f74ac4c",
   "metadata": {},
   "source": [
    "##### User"
   ]
  },
  {
   "cell_type": "code",
   "execution_count": 20,
   "id": "55ce0902",
   "metadata": {},
   "outputs": [
    {
     "name": "stdout",
     "output_type": "stream",
     "text": [
      "cover.png       long_tail.html  long_tail.ipynb nb.yml\r\n"
     ]
    }
   ],
   "source": [
    "!ls static/307cfee0a3f8f7d76b7646960ea599f0"
   ]
  },
  {
   "cell_type": "code",
   "execution_count": 37,
   "id": "aa44a382",
   "metadata": {},
   "outputs": [
    {
     "name": "stdout",
     "output_type": "stream",
     "text": [
      "<!DOCTYPE html>\r\n",
      "\r\n",
      "<html lang=\"en\" xml:lang=\"en\" xmlns=\"http://www.w3.org/1999/xhtml\"><head>\r\n",
      "<meta charset=\"utf-8\"/>\r\n",
      "<meta content=\"quarto-1.5.57\" name=\"generator\"/>\r\n",
      "<meta content=\"width=device-width, initial-scale=1.0, user-scalable=yes\" name=\"viewport\"/>\r\n",
      "<title>Stitch Fix, Jupyter, GitHub, and the Long Tail</title>\r\n",
      "<style>\r\n",
      "code{white-space: pre-wrap;}\r\n",
      "span.smallcaps{font-variant: small-caps;}\r\n",
      "cat: stdout: Broken pipe\r\n"
     ]
    }
   ],
   "source": [
    "! cat static/307cfee0a3f8f7d76b7646960ea599f0/long_tail.html | head -n10"
   ]
  },
  {
   "cell_type": "code",
   "execution_count": 44,
   "id": "35a1d882",
   "metadata": {},
   "outputs": [],
   "source": [
    "def update_meta(html_path: str|Path, \n",
    "                image_path:str,\n",
    "                title:str,\n",
    "                default_title: str = \"nbsanity | Jupyter Notebook Viewer\"):\n",
    "    meta_tags=\"\"\"<meta property=\"og:image\" content=\"{{image_path}}\">\n",
    "<meta property=\"og:site_name\" content=\"nbsanity\">\n",
    "<meta property=\"og:image:type\" content=\"image/png\">\n",
    "<meta property=\"og:image:width\" content=\"1200\">\n",
    "<meta property=\"og:image:height\" content=\"630\">\n",
    "<meta property=\"og:type\" content=\"website\">\n",
    "<meta property=\"og:url\" content=\"https://nbsanity.com\">\n",
    "<meta property=\"og:title\" content=\"{{title}}\">\n",
    "<meta property=\"og:description\" content=\"nbsanity: A modern way to view public Jupyter notebooks on GitHub\">\n",
    "<meta name=\"twitter:image\" content=\"{{image_path}}\">\n",
    "<meta name=\"twitter:card\" content=\"summary_large_image\">\n",
    "<meta name=\"twitter:title\" content=\"{{title}}\">\n",
    "<meta name=\"twitter:description\" content=\"nbsanity: A modern way to view public Jupyter notebooks on GitHub\">\n",
    "\"\"\"\n",
    "    doc = Path(html_path)\n",
    "    soup = bs(doc.read_text(encoding='utf-8'), 'html.parser')\n",
    "    head = soup.find('head')\n",
    "    new_html = bs(meta_tags, 'html.parser')\n",
    "    for element in new_html:\n",
    "        head.insert(0, element)\n",
    "    doc.write_text(str(soup), encoding='utf-8')"
   ]
  },
  {
   "cell_type": "code",
   "execution_count": 45,
   "id": "c13a2900",
   "metadata": {},
   "outputs": [],
   "source": [
    "# update_meta('static/307cfee0a3f8f7d76b7646960ea599f0/long_tail.html', 'myimage.png', 'My title')"
   ]
  },
  {
   "cell_type": "code",
   "execution_count": 46,
   "id": "3193c16c",
   "metadata": {},
   "outputs": [
    {
     "name": "stdout",
     "output_type": "stream",
     "text": [
      "<!DOCTYPE html>\r\n",
      "\r\n",
      "<html lang=\"en\" xml:lang=\"en\" xmlns=\"http://www.w3.org/1999/xhtml\"><head><meta content=\"nbsanity: A modern way to view public Jupyter notebooks on GitHub\" name=\"twitter:description\"/><meta content=\"{{title}}\" name=\"twitter:title\"/><meta content=\"summary_large_image\" name=\"twitter:card\"/><meta content=\"{{image_path}}\" name=\"twitter:image\"/><meta content=\"nbsanity: A modern way to view public Jupyter notebooks on GitHub\" property=\"og:description\"/><meta content=\"{{title}}\" property=\"og:title\"/><meta content=\"https://nbsanity.com\" property=\"og:url\"/><meta content=\"website\" property=\"og:type\"/><meta content=\"630\" property=\"og:image:height\"/><meta content=\"1200\" property=\"og:image:width\"/><meta content=\"image/png\" property=\"og:image:type\"/><meta content=\"nbsanity\" property=\"og:site_name\"/><meta content=\"{{image_path}}\" property=\"og:image\"/>\r\n",
      "<meta charset=\"utf-8\"/>\r\n",
      "<meta content=\"quarto-1.5.57\" name=\"generator\"/>\r\n",
      "<meta content=\"width=device-width, initial-scale=1.0, user-scalable=yes\" name=\"viewport\"/>\r\n",
      "<title>Stitch Fix, Jupyter, GitHub, and the Long Tail</title>\r\n",
      "<style>\r\n",
      "code{white-space: pre-wrap;}\r\n",
      "span.smallcaps{font-variant: small-caps;}\r\n",
      "div.columns{display: flex; gap: min(4vw, 1.5em);}\r\n",
      "div.column{flex: auto; overflow-x: auto;}\r\n",
      "div.hanging-indent{margin-left: 1.5em; text-indent: -1.5em;}\r\n",
      "ul.task-list{list-style: none;}\r\n",
      "ul.task-list li input[type=\"checkbox\"] {\r\n",
      "width: 0.8em;\r\n",
      "margin: 0 0.8em 0.2em -1em;  vertical-align: middle;\r\n",
      "}\r\n",
      ".display.math{display: block; text-align: center; margin: 0.5rem auto;}\r\n",
      "\r\n",
      "cat: stdout: Broken pipe\r\n"
     ]
    }
   ],
   "source": [
    "! cat static/307cfee0a3f8f7d76b7646960ea599f0/long_tail.html | head -n20"
   ]
  },
  {
   "cell_type": "markdown",
   "id": "a433241d",
   "metadata": {},
   "source": [
    "## Test shotscraper"
   ]
  },
  {
   "cell_type": "code",
   "execution_count": 57,
   "id": "494d8ef7",
   "metadata": {},
   "outputs": [],
   "source": [
    "def gist_raw(gist_url):\n",
    "    # Extract gist ID from URL\n",
    "    gist_id = gist_url.split('/')[-1]\n",
    "    \n",
    "    # Get gist info from GitHub API\n",
    "    api_url = f\"https://api.github.com/gists/{gist_id}\"\n",
    "    response = requests.get(api_url)\n",
    "    data = response.json()\n",
    "    \n",
    "    # Check if 'files' or 'raw_url' is missing and raise HTTPError\n",
    "    if 'files' not in data or not data['files']:\n",
    "        raise urllib.error.HTTPError(api_url, 404, \"No files found in the gist\", None, None)\n",
    "    \n",
    "    raw_url = list(data['files'].values())[0].get('raw_url')\n",
    "    if not raw_url:\n",
    "        raise urllib.error.HTTPError(api_url, 404, \"No raw_url found for the file\", None, None)\n",
    "    \n",
    "    return raw_url\n",
    "\n",
    "\n",
    "def git2raw(git_url: str): \n",
    "    if git_url.startswith('https://gist.github.com/'): return gist_raw(git_url)\n",
    "    if git_url.startswith('https://gist.githubusercontent.com') and 'raw' in git_url: return git_url\n",
    "    return git_url.replace(\"github.com\", \"raw.githubusercontent.com\").replace(\"/blob/\", \"/\")\n",
    "\n",
    "\n",
    "def escape_filename(filename):\n",
    "    # Replace HTML-like characters and other problematic characters\n",
    "    invalid_chars = '<>:\"/\\\\|?*%#&{}+=`@!^;[]()$'\n",
    "    for char in invalid_chars:\n",
    "        filename = filename.replace(char, '_')\n",
    "    return filename"
   ]
  },
  {
   "cell_type": "markdown",
   "id": "67c031ad",
   "metadata": {},
   "source": [
    "Let's test it:"
   ]
  },
  {
   "cell_type": "code",
   "execution_count": 76,
   "id": "84ec77ee",
   "metadata": {},
   "outputs": [],
   "source": [
    "!rm -rf temp/\n",
    "!mkdir temp"
   ]
  },
  {
   "cell_type": "code",
   "execution_count": 77,
   "id": "50ceac56",
   "metadata": {},
   "outputs": [
    {
     "data": {
      "text/plain": [
       "Path('temp/AoC_2023%2C_day_1.ipynb')"
      ]
     },
     "execution_count": 77,
     "metadata": {},
     "output_type": "execute_result"
    }
   ],
   "source": [
    "\n",
    "full_url='https://gist.github.com/93degree/f979a600bd6ef75044e83c3d9bfd6022'\n",
    "nm = urlsave(git2raw(full_url), 'temp')\n",
    "nm"
   ]
  },
  {
   "cell_type": "code",
   "execution_count": 80,
   "id": "b027cc8e",
   "metadata": {},
   "outputs": [
    {
     "data": {
      "text/plain": [
       "Path('temp/AoC_2023_2C_day_1.ipynb')"
      ]
     },
     "execution_count": 80,
     "metadata": {},
     "output_type": "execute_result"
    }
   ],
   "source": [
    "nm.rename(nm.parent/escape_filename(nm.name))"
   ]
  },
  {
   "cell_type": "code",
   "execution_count": 81,
   "id": "ca41cf80",
   "metadata": {},
   "outputs": [
    {
     "name": "stdout",
     "output_type": "stream",
     "text": [
      "AoC_2023_2C_day_1.ipynb\r\n"
     ]
    }
   ],
   "source": [
    "!ls temp/"
   ]
  },
  {
   "cell_type": "code",
   "execution_count": 85,
   "id": "8a803946",
   "metadata": {},
   "outputs": [
    {
     "name": "stdout",
     "output_type": "stream",
     "text": [
      "static/90372d112b04739ed2fd5e545ea62112/AoC_2023_2C_day_1.ipynb\r\n"
     ]
    }
   ],
   "source": [
    "!ls static/90372d112b04739ed2fd5e545ea62112/AoC_2023_2C_day_1.ipynb"
   ]
  },
  {
   "cell_type": "code",
   "execution_count": 101,
   "id": "a76117ca",
   "metadata": {},
   "outputs": [],
   "source": [
    "rm -rf static/*"
   ]
  },
  {
   "cell_type": "markdown",
   "id": "b9e2c3ec",
   "metadata": {},
   "source": [
    "## Let's see if we can fix the nb format "
   ]
  },
  {
   "cell_type": "code",
   "execution_count": 102,
   "id": "f1b2518e",
   "metadata": {},
   "outputs": [],
   "source": [
    "import nbformat\n",
    "# Read the notebook\n",
    "\n",
    "def fix_nb(nbpath):\n",
    "    \"Mutate notebook to right version for Quarto.\"\n",
    "    nb = nbformat.read(nbpath, as_version=4)\n",
    "    nbformat.write(nb, nbpath)"
   ]
  },
  {
   "cell_type": "code",
   "execution_count": 94,
   "id": "266af8c5",
   "metadata": {},
   "outputs": [
    {
     "name": "stdout",
     "output_type": "stream",
     "text": [
      "\u001b[1mpandoc \u001b[22m\n",
      "  to: html\n",
      "  output-file: AoC_2023_2C_day_1.html\n",
      "  standalone: true\n",
      "  section-divs: true\n",
      "  html-math-method: mathjax\n",
      "  wrap: none\n",
      "  default-image-extension: png\n",
      "  \n",
      "\u001b[1mmetadata\u001b[22m\n",
      "  document-css: false\n",
      "  link-citations: true\n",
      "  date-format: long\n",
      "  lang: en\n",
      "  title: 'AoC 2023, day 1'\n",
      "  \n",
      "Output created: AoC_2023_2C_day_1.html\n",
      "\n"
     ]
    }
   ],
   "source": [
    "! quarto render static/90372d112b04739ed2fd5e545ea62112/AoC_2023_2C_day_1.ipynb --no-execute --to html"
   ]
  },
  {
   "cell_type": "code",
   "execution_count": 103,
   "id": "07d02a7c",
   "metadata": {},
   "outputs": [],
   "source": [
    "def fix_nb(nbpath):\n",
    "    \"Mutate notebook to right version for Quarto.\"\n",
    "    nb = nbformat.read(nbpath, as_version=4)\n",
    "    nbformat.write(nb, nbpath)"
   ]
  },
  {
   "cell_type": "code",
   "execution_count": 104,
   "id": "86a61b11",
   "metadata": {},
   "outputs": [],
   "source": [
    "fix_nb('static/90372d112b04739ed2fd5e545ea62112/AoC_2023_2C_day_1.ipynb')"
   ]
  }
 ],
 "metadata": {
  "kernelspec": {
   "display_name": "Python 3 (ipykernel)",
   "language": "python",
   "name": "python3"
  },
  "language_info": {
   "codemirror_mode": {
    "name": "ipython",
    "version": 3
   },
   "file_extension": ".py",
   "mimetype": "text/x-python",
   "name": "python",
   "nbconvert_exporter": "python",
   "pygments_lexer": "ipython3",
   "version": "3.12.7"
  }
 },
 "nbformat": 4,
 "nbformat_minor": 5
}
